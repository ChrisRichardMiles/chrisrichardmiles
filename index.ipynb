{
 "cells": [
  {
   "cell_type": "code",
   "execution_count": null,
   "metadata": {},
   "outputs": [],
   "source": [
    "#hide\n",
    "from chrisrichardmiles.core import *"
   ]
  },
  {
   "cell_type": "markdown",
   "metadata": {},
   "source": [
    "# chrisrichardmiles\n",
    "\n",
    "> A software package built to share my kaggle solutions and other code.\n",
    "\n",
    "Check out my silver medal solutions here: \n",
    "* [M5 - Accuracy Sales Forecasting - 77th place solution](https://github.com/ChrisRichardMiles/chrisrichardmiles/tree/master/projects/m5)\n",
    "* [Optiver Realized Volatility - 91st place solution](https://github.com/ChrisRichardMiles/chrisrichardmiles/tree/master/projects/optiver)\n",
    "\n",
    "This package is built with [nbdev](https://nbdev.fast.ai/), so the source code, testing, and documentation are all built in the jupyter notebooks that comprise this repository. "
   ]
  },
  {
   "cell_type": "markdown",
   "metadata": {},
   "source": [
    "## Install"
   ]
  },
  {
   "cell_type": "markdown",
   "metadata": {},
   "source": [
    "`pip install chrisrichardmiles`"
   ]
  },
  {
   "cell_type": "code",
   "execution_count": null,
   "metadata": {},
   "outputs": [],
   "source": []
  }
 ],
 "metadata": {
  "kernelspec": {
   "display_name": "Python 3 (ipykernel)",
   "language": "python",
   "name": "python3"
  }
 },
 "nbformat": 4,
 "nbformat_minor": 2
}
