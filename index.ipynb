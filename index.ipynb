{
 "cells": [
  {
   "cell_type": "raw",
   "metadata": {},
   "source": [
    "---\n",
    "description: A software package built to share my code and some of my top kaggle solutions.\n",
    "output-file: index.html\n",
    "title: chrisrichardmiles\n",
    "\n",
    "---\n",
    "\n"
   ]
  },
  {
   "cell_type": "code",
   "execution_count": null,
   "metadata": {},
   "outputs": [],
   "source": [
    "#| include: false\n",
    "from chrisrichardmiles.core import *"
   ]
  },
  {
   "cell_type": "markdown",
   "metadata": {},
   "source": [
    "* Here is the [documentation](https://chrisrichardmiles.github.io/chrisrichardmiles/) for this package.\n",
    "* [M5 - Accuracy Sales Forecasting - 77th place solution](https://github.com/ChrisRichardMiles/chrisrichardmiles/tree/master/projects/m5)\n",
    "* [Optiver Realized Volatility - 91st place solution](https://github.com/ChrisRichardMiles/chrisrichardmiles/tree/master/projects/optiver) (code is not incorporated into the software package, but the solution can still be easily reproduced by following the instructions in the documentation)\n",
    "\n",
    "This package is built with [nbdev](https://nbdev.fast.ai/), so the source code, testing, and documentation are all built in the jupyter notebooks that comprise [the github repository](https://github.com/ChrisRichardMiles/chrisrichardmiles). "
   ]
  },
  {
   "cell_type": "markdown",
   "metadata": {},
   "source": [
    "## Install"
   ]
  },
  {
   "cell_type": "markdown",
   "metadata": {},
   "source": [
    "`pip install chrisrichardmiles`"
   ]
  },
  {
   "cell_type": "markdown",
   "metadata": {},
   "source": [
    "## Documentation \n",
    "As of 10/3/2022, the documentation at https://chrisrichardmiles.github.io/chrisrichardmiles/ is not displaying correctly.\n",
    "Since the documentation is created from the jupyter notebooks in this repository, you can still see everything that is covered in the docs, except that it doesn't look as nice. If you would like to see the docs as they should be, run the following in the command line: \n",
    "\n",
    "```\n",
    "git clone https://github.com/ChrisRichardMiles/chrisrichardmiles.git\n",
    "pip install nbdev \n",
    "cd chrisrichardmiles\n",
    "nbdev_preview\n",
    "```\n",
    "\n",
    "Then copy and paste the url that is provided. \n",
    "\n",
    "Sorry for the inconvenience. "
   ]
  },
  {
   "cell_type": "code",
   "execution_count": null,
   "metadata": {},
   "outputs": [],
   "source": []
  }
 ],
 "metadata": {
  "kernelspec": {
   "display_name": "Python 3 (ipykernel)",
   "language": "python",
   "name": "python3"
  }
 },
 "nbformat": 4,
 "nbformat_minor": 2
}
