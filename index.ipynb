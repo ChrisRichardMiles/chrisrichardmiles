{
 "cells": [
  {
   "cell_type": "raw",
   "metadata": {},
   "source": [
    "---\n",
    "description: A software package to share my code and some of my top kaggle solutions.\n",
    "output-file: index.html\n",
    "title: chrisrichardmiles\n",
    "\n",
    "---\n",
    "\n"
   ]
  },
  {
   "cell_type": "code",
   "execution_count": null,
   "metadata": {},
   "outputs": [],
   "source": [
    "#| include: false\n",
    "from chrisrichardmiles.core import *"
   ]
  },
  {
   "cell_type": "markdown",
   "metadata": {},
   "source": [
    "* Here is the [documentation](https://chrisrichardmiles.github.io/chrisrichardmiles/) for this package.\n",
    "\n",
    "This package is built with [nbdev](https://nbdev.fast.ai/), so the source code, testing, and documentation are all built in the jupyter notebooks that comprise [the github repository](https://github.com/ChrisRichardMiles/chrisrichardmiles). "
   ]
  },
  {
   "cell_type": "markdown",
   "metadata": {},
   "source": [
    "## kaggle solutions\n",
    "* M5 - Accuracy Sales Forecasting - 77th place solution\n",
    "  - [code](https://github.com/ChrisRichardMiles/chrisrichardmiles/tree/master/projects/m5)\n",
    "  - [documentation](https://chrisrichardmiles.github.io/chrisrichardmiles/projects/m5/index_m5.html)\n",
    "* Optiver Realized Volatility - 91st place solution \n",
    "  - [code](https://github.com/ChrisRichardMiles/chrisrichardmiles/tree/master/projects/optiver)\n",
    "  - [documentation](https://chrisrichardmiles.github.io/chrisrichardmiles/projects/optiver/index_optiver.html) \n",
    "\n"
   ]
  },
  {
   "cell_type": "markdown",
   "metadata": {},
   "source": [
    "## Install"
   ]
  },
  {
   "cell_type": "markdown",
   "metadata": {},
   "source": [
    "`pip install chrisrichardmiles`"
   ]
  }
 ],
 "metadata": {
  "kernelspec": {
   "display_name": "Python 3 (ipykernel)",
   "language": "python",
   "name": "python3"
  }
 },
 "nbformat": 4,
 "nbformat_minor": 2
}
