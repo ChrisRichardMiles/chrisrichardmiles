{
 "cells": [
  {
   "cell_type": "code",
   "execution_count": null,
   "metadata": {
    "_cell_guid": "1b5e1ca3-4400-497d-9d9c-4808dbf0a382",
    "_uuid": "ce3c6d03-068f-492a-bfd7-4aadabe5d976",
    "collapsed": false,
    "execution": {
     "iopub.execute_input": "2021-08-22T05:14:32.778707Z",
     "iopub.status.busy": "2021-08-22T05:14:32.778332Z",
     "iopub.status.idle": "2021-08-22T05:14:35.961148Z",
     "shell.execute_reply": "2021-08-22T05:14:35.960073Z",
     "shell.execute_reply.started": "2021-08-22T05:14:32.778677Z"
    },
    "jupyter": {
     "outputs_hidden": false
    }
   },
   "outputs": [],
   "source": [
    "from opt_utils import * \n",
    "import numpy as np\n",
    "import matplotlib.pyplot as plt\n",
    "import scipy\n",
    "import scipy.cluster.hierarchy as sch\n",
    "import seaborn as sns\n",
    "\n",
    "plt.rcParams['figure.figsize'] = (15, 7)\n",
    "plt.rcParams['font.size'] = 18"
   ]
  },
  {
   "cell_type": "code",
   "execution_count": null,
   "metadata": {
    "execution": {
     "iopub.execute_input": "2021-08-22T05:15:18.635208Z",
     "iopub.status.busy": "2021-08-22T05:15:18.634682Z",
     "iopub.status.idle": "2021-08-22T05:15:20.278687Z",
     "shell.execute_reply": "2021-08-22T05:15:20.277696Z",
     "shell.execute_reply.started": "2021-08-22T05:15:18.635168Z"
    }
   },
   "outputs": [],
   "source": [
    "DATA_RAW='../input/optiver-realized-volatility-prediction'\n",
    "stock_id=0\n",
    "train_or_test='train'\n",
    "train = read_train_or_test(DATA_RAW, 'train')"
   ]
  },
  {
   "cell_type": "code",
   "execution_count": null,
   "metadata": {
    "execution": {
     "iopub.execute_input": "2021-08-22T03:29:47.60984Z",
     "iopub.status.busy": "2021-08-22T03:29:47.609381Z",
     "iopub.status.idle": "2021-08-22T03:29:49.99308Z",
     "shell.execute_reply": "2021-08-22T03:29:49.992227Z",
     "shell.execute_reply.started": "2021-08-22T03:29:47.609801Z"
    }
   },
   "outputs": [],
   "source": [
    "target_mean = train['target'].mean()\n",
    "target_median = train['target'].median()\n",
    "ax = train['target'].hist(bins=1000)\n",
    "plt.suptitle('target distribution showing a positive skew')\n",
    "plt.axvline(x=target_mean, color='red')\n",
    "plt.axvline(x=target_median, color='green')\n",
    "plt.text(x=target_mean, y=-1, s='mean', color='red', rotation=-30)\n",
    "plt.text(x=target_median - .005, y=-1, s='median', color='green', rotation=-30)\n",
    "plt.show()\n"
   ]
  },
  {
   "cell_type": "code",
   "execution_count": null,
   "metadata": {
    "execution": {
     "iopub.execute_input": "2021-08-22T03:31:30.07585Z",
     "iopub.status.busy": "2021-08-22T03:31:30.075416Z",
     "iopub.status.idle": "2021-08-22T03:31:30.107935Z",
     "shell.execute_reply": "2021-08-22T03:31:30.106949Z",
     "shell.execute_reply.started": "2021-08-22T03:31:30.075813Z"
    }
   },
   "outputs": [],
   "source": [
    "train.target.describe()"
   ]
  },
  {
   "cell_type": "markdown",
   "metadata": {},
   "source": []
  },
  {
   "cell_type": "code",
   "execution_count": null,
   "metadata": {},
   "outputs": [],
   "source": [
    "axes[0].set_title"
   ]
  },
  {
   "cell_type": "code",
   "execution_count": null,
   "metadata": {
    "execution": {
     "iopub.execute_input": "2021-08-22T03:58:56.216605Z",
     "iopub.status.busy": "2021-08-22T03:58:56.216012Z",
     "iopub.status.idle": "2021-08-22T03:58:57.13368Z",
     "shell.execute_reply": "2021-08-22T03:58:57.132754Z",
     "shell.execute_reply.started": "2021-08-22T03:58:56.216569Z"
    }
   },
   "outputs": [],
   "source": [
    "fig, axes = plt.subplots(4, 1, figsize=(15, 28))\n",
    "train.groupby('time_id')['target'].mean().sort_values(\n",
    "    ascending=False)[:15].plot(kind='barh', ax=axes[0])\n",
    "axes[0].set_title('Top 15 most most volatile time periods')\n",
    "axes[0].set_xlabel('Volatility')\n",
    "\n",
    "train.groupby('time_id')['target'].mean().sort_values()[:15]\\\n",
    "    .plot(kind='barh')\n",
    "axes[1].set_title('15 least most volatile time periods')\n",
    "ax.set_xlabel('Volatility')\n",
    "\n",
    "train.groupby('stock_id')['target'].mean().sort_values()[:15]\\\n",
    "    .plot(kind='barh')\n",
    "axes[2].set_title('15 least most volatile stock_ids')\n",
    "ax.set_xlabel('Volatility')\n",
    "\n",
    "train.groupby('stock_id')['target'].mean().sort_values()[:15]\\\n",
    "    .plot(kind='barh')\n",
    "axes[3].set_title('15 least most volatile stock_ids')\n",
    "ax.set_xlabel('Volatility')\n",
    "plt.show()"
   ]
  },
  {
   "cell_type": "code",
   "execution_count": null,
   "metadata": {},
   "outputs": [],
   "source": []
  },
  {
   "cell_type": "code",
   "execution_count": null,
   "metadata": {
    "execution": {
     "iopub.execute_input": "2021-08-22T03:40:55.281846Z",
     "iopub.status.busy": "2021-08-22T03:40:55.28108Z",
     "iopub.status.idle": "2021-08-22T03:40:55.304488Z",
     "shell.execute_reply": "2021-08-22T03:40:55.30346Z",
     "shell.execute_reply.started": "2021-08-22T03:40:55.281788Z"
    }
   },
   "outputs": [],
   "source": [
    "x = train.groupby('stock_id')['target'].mean()"
   ]
  },
  {
   "cell_type": "code",
   "execution_count": null,
   "metadata": {
    "execution": {
     "iopub.execute_input": "2021-08-22T03:43:12.58537Z",
     "iopub.status.busy": "2021-08-22T03:43:12.584955Z",
     "iopub.status.idle": "2021-08-22T03:43:12.791901Z",
     "shell.execute_reply": "2021-08-22T03:43:12.790657Z",
     "shell.execute_reply.started": "2021-08-22T03:43:12.585335Z"
    }
   },
   "outputs": [],
   "source": [
    "x.sort_values(ascending=False)[:10].plot(kind='barh')"
   ]
  },
  {
   "cell_type": "code",
   "execution_count": null,
   "metadata": {
    "execution": {
     "iopub.execute_input": "2021-08-22T03:43:31.269017Z",
     "iopub.status.busy": "2021-08-22T03:43:31.268568Z",
     "iopub.status.idle": "2021-08-22T03:43:31.454705Z",
     "shell.execute_reply": "2021-08-22T03:43:31.45345Z",
     "shell.execute_reply.started": "2021-08-22T03:43:31.268975Z"
    }
   },
   "outputs": [],
   "source": [
    "target_max = train['target'].max()\n",
    "ax = train['target'].describe()[1:-1].plot(kind='bar')\n",
    "plt.suptitle(f'statistics of target without max, which is {target_max}')\n",
    "plt.show()"
   ]
  },
  {
   "cell_type": "code",
   "execution_count": null,
   "metadata": {},
   "outputs": [],
   "source": []
  },
  {
   "cell_type": "code",
   "execution_count": null,
   "metadata": {
    "execution": {
     "iopub.execute_input": "2021-08-21T23:29:56.937938Z",
     "iopub.status.busy": "2021-08-21T23:29:56.937352Z",
     "iopub.status.idle": "2021-08-21T23:29:57.191474Z",
     "shell.execute_reply": "2021-08-21T23:29:57.190522Z",
     "shell.execute_reply.started": "2021-08-21T23:29:56.937889Z"
    }
   },
   "outputs": [],
   "source": [
    "stats = train.groupby('stock_id')['target'].describe()\n",
    "stats.head()"
   ]
  },
  {
   "cell_type": "code",
   "execution_count": null,
   "metadata": {},
   "outputs": [],
   "source": []
  },
  {
   "cell_type": "code",
   "execution_count": null,
   "metadata": {
    "execution": {
     "iopub.execute_input": "2021-08-21T23:31:45.755356Z",
     "iopub.status.busy": "2021-08-21T23:31:45.75498Z",
     "iopub.status.idle": "2021-08-21T23:31:47.413169Z",
     "shell.execute_reply": "2021-08-21T23:31:47.412331Z",
     "shell.execute_reply.started": "2021-08-21T23:31:45.755317Z"
    }
   },
   "outputs": [],
   "source": [
    "fig, axes = plt.subplots((2, 2))\n",
    "ax = stats['mean'].hist(bins=1000)\n",
    "plt.suptitle('mean distribution')\n",
    "plt.show()"
   ]
  },
  {
   "cell_type": "code",
   "execution_count": null,
   "metadata": {
    "execution": {
     "iopub.execute_input": "2021-08-22T00:13:54.963745Z",
     "iopub.status.busy": "2021-08-22T00:13:54.96336Z",
     "iopub.status.idle": "2021-08-22T00:13:55.128162Z",
     "shell.execute_reply": "2021-08-22T00:13:55.127285Z",
     "shell.execute_reply.started": "2021-08-22T00:13:54.96369Z"
    }
   },
   "outputs": [],
   "source": [
    "piv = train[['time_id', 'stock_id', 'target']].set_index(['time_id', 'stock_id']).unstack()"
   ]
  },
  {
   "cell_type": "code",
   "execution_count": null,
   "metadata": {},
   "outputs": [],
   "source": [
    ".style.background_gradient(cmap ='viridis')\\\n",
    "    .set_properties(**{'font-size': '20px'})"
   ]
  },
  {
   "cell_type": "code",
   "execution_count": null,
   "metadata": {
    "execution": {
     "iopub.execute_input": "2021-08-22T00:39:58.721194Z",
     "iopub.status.busy": "2021-08-22T00:39:58.720807Z",
     "iopub.status.idle": "2021-08-22T00:39:58.859065Z",
     "shell.execute_reply": "2021-08-22T00:39:58.858055Z",
     "shell.execute_reply.started": "2021-08-22T00:39:58.721157Z"
    }
   },
   "outputs": [],
   "source": [
    "corr = piv.corr()"
   ]
  },
  {
   "cell_type": "code",
   "execution_count": null,
   "metadata": {
    "execution": {
     "iopub.execute_input": "2021-08-22T00:38:10.857442Z",
     "iopub.status.busy": "2021-08-22T00:38:10.857019Z",
     "iopub.status.idle": "2021-08-22T00:38:11.062302Z",
     "shell.execute_reply": "2021-08-22T00:38:11.060983Z",
     "shell.execute_reply.started": "2021-08-22T00:38:10.857405Z"
    }
   },
   "outputs": [],
   "source": [
    "# import scipy\n",
    "# import scipy.cluster.hierarchy as sch\n",
    "# import seaborn as sns\n",
    "\n",
    "def cluster_corr(corr_array, inplace=False):\n",
    "    \"\"\"\n",
    "    All credit to Wil Yegelwel for\n",
    "    https://wil.yegelwel.com/cluster-correlation-matrix/#:~:text=Cluster%20a%20Correlation%20Matrix%20%28in%20python%29%20Below%20is,highly%20correlated%20variables%20are%20next%20to%20eachother%20\n",
    "    Rearranges the correlation matrix, corr_array, so that groups of highly \n",
    "    correlated variables are next to eachother \n",
    "    \n",
    "    Parameters\n",
    "    ----------\n",
    "    corr_array : pandas.DataFrame or numpy.ndarray\n",
    "        a NxN correlation matrix \n",
    "        \n",
    "    Returns\n",
    "    -------\n",
    "    pandas.DataFrame or numpy.ndarray\n",
    "        a NxN correlation matrix with the columns and rows rearranged\n",
    "    \"\"\"\n",
    "    pairwise_distances = sch.distance.pdist(corr_array)\n",
    "    linkage = sch.linkage(pairwise_distances, method='complete')\n",
    "    cluster_distance_threshold = pairwise_distances.max()/2\n",
    "    idx_to_cluster_array = sch.fcluster(linkage, cluster_distance_threshold, \n",
    "                                        criterion='distance')\n",
    "    idx = np.argsort(idx_to_cluster_array)\n",
    "    \n",
    "    if not inplace:\n",
    "        corr_array = corr_array.copy()\n",
    "    \n",
    "    if isinstance(corr_array, pd.DataFrame):\n",
    "        return corr_array.iloc[idx, :].T.iloc[idx, :]\n",
    "    return corr_array[idx, :][:, idx]"
   ]
  },
  {
   "cell_type": "code",
   "execution_count": null,
   "metadata": {
    "execution": {
     "iopub.execute_input": "2021-08-22T00:40:09.008449Z",
     "iopub.status.busy": "2021-08-22T00:40:09.008109Z",
     "iopub.status.idle": "2021-08-22T00:40:09.717303Z",
     "shell.execute_reply": "2021-08-22T00:40:09.716271Z",
     "shell.execute_reply.started": "2021-08-22T00:40:09.008419Z"
    }
   },
   "outputs": [],
   "source": [
    "sns.heatmap(corr)\n",
    "plt.show()"
   ]
  },
  {
   "cell_type": "code",
   "execution_count": null,
   "metadata": {
    "execution": {
     "iopub.execute_input": "2021-08-22T00:40:25.633534Z",
     "iopub.status.busy": "2021-08-22T00:40:25.633196Z",
     "iopub.status.idle": "2021-08-22T00:40:26.341541Z",
     "shell.execute_reply": "2021-08-22T00:40:26.340575Z",
     "shell.execute_reply.started": "2021-08-22T00:40:25.633504Z"
    }
   },
   "outputs": [],
   "source": [
    "sns.heatmap(cluster_corr(corr))\n",
    "plt.show()"
   ]
  },
  {
   "cell_type": "code",
   "execution_count": null,
   "metadata": {
    "execution": {
     "iopub.execute_input": "2021-08-22T00:45:09.699594Z",
     "iopub.status.busy": "2021-08-22T00:45:09.699249Z",
     "iopub.status.idle": "2021-08-22T00:45:09.75452Z",
     "shell.execute_reply": "2021-08-22T00:45:09.753674Z",
     "shell.execute_reply.started": "2021-08-22T00:45:09.699563Z"
    }
   },
   "outputs": [],
   "source": [
    "cluster_corr(corr).head(30)"
   ]
  },
  {
   "cell_type": "code",
   "execution_count": null,
   "metadata": {
    "execution": {
     "iopub.execute_input": "2021-08-22T00:52:31.322197Z",
     "iopub.status.busy": "2021-08-22T00:52:31.321855Z",
     "iopub.status.idle": "2021-08-22T00:52:31.643691Z",
     "shell.execute_reply": "2021-08-22T00:52:31.642796Z",
     "shell.execute_reply.started": "2021-08-22T00:52:31.322168Z"
    }
   },
   "outputs": [],
   "source": [
    "ax = corr.mean().hist(bins=100)\n",
    "plt.suptitle('Distribution of each stock_ids mean correlation with all other stock_ids')\n",
    "plt.show()"
   ]
  },
  {
   "cell_type": "code",
   "execution_count": null,
   "metadata": {
    "execution": {
     "iopub.execute_input": "2021-08-22T00:53:32.921838Z",
     "iopub.status.busy": "2021-08-22T00:53:32.921476Z",
     "iopub.status.idle": "2021-08-22T00:53:32.967584Z",
     "shell.execute_reply": "2021-08-22T00:53:32.966411Z",
     "shell.execute_reply.started": "2021-08-22T00:53:32.921806Z"
    }
   },
   "outputs": [],
   "source": [
    "corr"
   ]
  },
  {
   "cell_type": "code",
   "execution_count": null,
   "metadata": {
    "execution": {
     "iopub.execute_input": "2021-08-22T00:53:13.513554Z",
     "iopub.status.busy": "2021-08-22T00:53:13.513077Z",
     "iopub.status.idle": "2021-08-22T00:53:15.625227Z",
     "shell.execute_reply": "2021-08-22T00:53:15.624282Z",
     "shell.execute_reply.started": "2021-08-22T00:53:13.513522Z"
    }
   },
   "outputs": [],
   "source": [
    "corr.mean().plot(kind='bar')"
   ]
  },
  {
   "cell_type": "code",
   "execution_count": null,
   "metadata": {
    "execution": {
     "iopub.execute_input": "2021-08-22T00:31:41.19433Z",
     "iopub.status.busy": "2021-08-22T00:31:41.193952Z",
     "iopub.status.idle": "2021-08-22T00:31:41.23983Z",
     "shell.execute_reply": "2021-08-22T00:31:41.238828Z",
     "shell.execute_reply.started": "2021-08-22T00:31:41.194301Z"
    }
   },
   "outputs": [],
   "source": [
    "corr.sort_values('mean_corr')"
   ]
  },
  {
   "cell_type": "code",
   "execution_count": null,
   "metadata": {
    "collapsed": true,
    "execution": {
     "iopub.execute_input": "2021-08-22T00:24:02.277573Z",
     "iopub.status.busy": "2021-08-22T00:24:02.277249Z",
     "iopub.status.idle": "2021-08-22T00:24:04.370646Z",
     "shell.execute_reply": "2021-08-22T00:24:04.369667Z",
     "shell.execute_reply.started": "2021-08-22T00:24:02.277542Z"
    },
    "jupyter": {
     "outputs_hidden": true
    }
   },
   "outputs": [],
   "source": [
    "corr"
   ]
  },
  {
   "cell_type": "markdown",
   "metadata": {},
   "source": [
    "## price features "
   ]
  },
  {
   "cell_type": "code",
   "execution_count": null,
   "metadata": {
    "execution": {
     "iopub.execute_input": "2021-08-22T05:15:39.023809Z",
     "iopub.status.busy": "2021-08-22T05:15:39.023463Z",
     "iopub.status.idle": "2021-08-22T05:15:39.955986Z",
     "shell.execute_reply": "2021-08-22T05:15:39.955097Z",
     "shell.execute_reply.started": "2021-08-22T05:15:39.02378Z"
    }
   },
   "outputs": [],
   "source": [
    "df = load_bt(DATA_RAW, stock_id, train_or_test)\n",
    "add_wap(df)"
   ]
  },
  {
   "cell_type": "code",
   "execution_count": null,
   "metadata": {
    "execution": {
     "iopub.execute_input": "2021-08-22T05:15:46.231563Z",
     "iopub.status.busy": "2021-08-22T05:15:46.231179Z",
     "iopub.status.idle": "2021-08-22T05:15:46.276202Z",
     "shell.execute_reply": "2021-08-22T05:15:46.27515Z",
     "shell.execute_reply.started": "2021-08-22T05:15:46.231525Z"
    }
   },
   "outputs": [],
   "source": [
    "dff = df[df.time_id == 5]\n",
    "dff.wap.describe()"
   ]
  },
  {
   "cell_type": "code",
   "execution_count": null,
   "metadata": {
    "execution": {
     "iopub.execute_input": "2021-08-22T05:15:50.968599Z",
     "iopub.status.busy": "2021-08-22T05:15:50.968183Z",
     "iopub.status.idle": "2021-08-22T05:15:50.974603Z",
     "shell.execute_reply": "2021-08-22T05:15:50.973412Z",
     "shell.execute_reply.started": "2021-08-22T05:15:50.968562Z"
    }
   },
   "outputs": [],
   "source": [
    "print(dff.wap.values[-1], dff.wap.values[0])"
   ]
  },
  {
   "cell_type": "code",
   "execution_count": null,
   "metadata": {
    "execution": {
     "iopub.execute_input": "2021-08-22T05:16:00.056686Z",
     "iopub.status.busy": "2021-08-22T05:16:00.056255Z",
     "iopub.status.idle": "2021-08-22T05:16:00.060832Z",
     "shell.execute_reply": "2021-08-22T05:16:00.060102Z",
     "shell.execute_reply.started": "2021-08-22T05:16:00.056638Z"
    }
   },
   "outputs": [],
   "source": [
    "def first(x): return x.values[0]\n",
    "def last(x): return x.values[-1]"
   ]
  },
  {
   "cell_type": "code",
   "execution_count": null,
   "metadata": {
    "execution": {
     "iopub.execute_input": "2021-08-22T05:16:01.945741Z",
     "iopub.status.busy": "2021-08-22T05:16:01.945089Z",
     "iopub.status.idle": "2021-08-22T05:16:02.174325Z",
     "shell.execute_reply": "2021-08-22T05:16:02.173348Z",
     "shell.execute_reply.started": "2021-08-22T05:16:01.945693Z"
    }
   },
   "outputs": [],
   "source": [
    "dfa = df.groupby('time_id').agg({'wap': [first, last, np.min, np.max]})"
   ]
  },
  {
   "cell_type": "code",
   "execution_count": null,
   "metadata": {
    "execution": {
     "iopub.execute_input": "2021-08-22T05:16:34.703466Z",
     "iopub.status.busy": "2021-08-22T05:16:34.703082Z",
     "iopub.status.idle": "2021-08-22T05:16:34.708378Z",
     "shell.execute_reply": "2021-08-22T05:16:34.707291Z",
     "shell.execute_reply.started": "2021-08-22T05:16:34.703436Z"
    }
   },
   "outputs": [],
   "source": [
    "dfa.columns =  ['_'.join(c) for c in dfa.columns]"
   ]
  },
  {
   "cell_type": "code",
   "execution_count": null,
   "metadata": {
    "execution": {
     "iopub.execute_input": "2021-08-22T05:16:40.719103Z",
     "iopub.status.busy": "2021-08-22T05:16:40.718724Z",
     "iopub.status.idle": "2021-08-22T05:16:40.72555Z",
     "shell.execute_reply": "2021-08-22T05:16:40.724529Z",
     "shell.execute_reply.started": "2021-08-22T05:16:40.719067Z"
    }
   },
   "outputs": [],
   "source": [
    "dfa.columns"
   ]
  },
  {
   "cell_type": "code",
   "execution_count": null,
   "metadata": {
    "_cell_guid": "1b5e1ca3-4400-497d-9d9c-4808dbf0a382",
    "_uuid": "ce3c6d03-068f-492a-bfd7-4aadabe5d976",
    "collapsed": false,
    "execution": {
     "iopub.execute_input": "2021-08-21T22:08:18.275836Z",
     "iopub.status.busy": "2021-08-21T22:08:18.275444Z",
     "iopub.status.idle": "2021-08-21T22:08:20.327401Z",
     "shell.execute_reply": "2021-08-21T22:08:20.326299Z",
     "shell.execute_reply.started": "2021-08-21T22:08:18.2758Z"
    },
    "jupyter": {
     "outputs_hidden": false
    }
   },
   "outputs": [],
   "source": [
    "\"\"\"Same as p4 except Im goin to use 10 minutes \n",
    "instead of 5.\"\"\"\n",
    "df = load_bt(DATA_RAW, stock_id, train_or_test)\n",
    "df = add_wap(df)\n",
    "df['log_return'] = df.groupby(['time_id'])['wap'].apply(log_return)\n",
    "df['abs_log_return'] = df['log_return'].abs()\n",
    "df['is_pos_return'] = (df['log_return'] > 0).astype(int)\n",
    "df['is_neg_return'] = (df['log_return'] < 0).astype(int)\n",
    "df['spread_pct'] = (df.ask_price1 - df.bid_price1) / df.wap\n",
    "df['spread_2_pct'] = (df.ask_price2 - df.bid_price2) / df.wap\n",
    "df['spread'] = (df.ask_price1 - df.bid_price1) \n",
    "df['spread_2'] = (df.ask_price2 - df.bid_price2) \n",
    "df['sum_bid'] = (df.bid_size1 + df.bid_size2)\n",
    "df['sum_ask'] = (df.ask_size1 + df.ask_size2)\n",
    "df['bid_ask_ratio'] = df['sum_bid'] / df['sum_ask']\n",
    "df['sum_bid_ask'] = df['sum_bid'] + df['sum_ask']"
   ]
  },
  {
   "cell_type": "code",
   "execution_count": null,
   "metadata": {},
   "outputs": [],
   "source": []
  },
  {
   "cell_type": "code",
   "execution_count": null,
   "metadata": {
    "collapsed": true,
    "execution": {
     "iopub.execute_input": "2021-08-21T22:12:46.245807Z",
     "iopub.status.busy": "2021-08-21T22:12:46.245436Z",
     "iopub.status.idle": "2021-08-21T22:13:52.367554Z",
     "shell.execute_reply": "2021-08-21T22:13:52.36658Z",
     "shell.execute_reply.started": "2021-08-21T22:12:46.245776Z"
    },
    "jupyter": {
     "outputs_hidden": true
    }
   },
   "outputs": [],
   "source": [
    "# This shows there is no missing data in the book or trade data\n",
    "bookna = 0\n",
    "tradena = 0\n",
    "for stock_id in train.stock_id.unique():\n",
    "    book = load_bt(DATA_RAW, stock_id, train_or_test, book_only=True)\n",
    "    trade = load_bt(DATA_RAW, stock_id, train_or_test, trade_only=True)\n",
    "    bookna += book.isna().sum().sum()\n",
    "    tradena += trade.isna().sum().sum()\n",
    "print('bookna', bookna, 'tradena', tradena)"
   ]
  },
  {
   "cell_type": "code",
   "execution_count": null,
   "metadata": {
    "execution": {
     "iopub.execute_input": "2021-08-21T22:35:31.58735Z",
     "iopub.status.busy": "2021-08-21T22:35:31.587001Z",
     "iopub.status.idle": "2021-08-21T22:35:32.428564Z",
     "shell.execute_reply": "2021-08-21T22:35:32.427783Z",
     "shell.execute_reply.started": "2021-08-21T22:35:31.587315Z"
    }
   },
   "outputs": [],
   "source": [
    "# for stock_id in train.stock_id.unique():\n",
    "stock_id = train.stock_id.unique()[0]\n",
    "book = load_bt(DATA_RAW, stock_id, train_or_test, book_only=True, add_stock_id=True)\n",
    "trade = load_bt(DATA_RAW, stock_id, train_or_test, trade_only=True, add_stock_id=True)\n"
   ]
  },
  {
   "cell_type": "code",
   "execution_count": null,
   "metadata": {
    "execution": {
     "iopub.execute_input": "2021-08-21T22:42:43.421376Z",
     "iopub.status.busy": "2021-08-21T22:42:43.421037Z",
     "iopub.status.idle": "2021-08-21T22:44:15.435838Z",
     "shell.execute_reply": "2021-08-21T22:44:15.434899Z",
     "shell.execute_reply.started": "2021-08-21T22:42:43.421344Z"
    }
   },
   "outputs": [],
   "source": [
    "%%time\n",
    "dfs=[]\n",
    "for stock_id in train.stock_id.unique():\n",
    "    book = load_bt(DATA_RAW, stock_id, train_or_test, book_only=True, add_stock_id=True)\n",
    "    trade = load_bt(DATA_RAW, stock_id, train_or_test, trade_only=True, add_stock_id=True)\n",
    "    b = book.groupby(['stock_id', 'time_id'])['seconds_in_bucket'].agg(len).to_frame().rename(columns={'seconds_in_bucket': 'len_book'})\n",
    "    t = trade.groupby(['stock_id', 'time_id'])['seconds_in_bucket'].agg(len).to_frame().rename(columns={'seconds_in_bucket': 'len_trade'})\n",
    "    dfs.append(pd.concat([b, t], axis=1))\n",
    "df_len = pd.concat(dfs)"
   ]
  },
  {
   "cell_type": "code",
   "execution_count": null,
   "metadata": {
    "execution": {
     "iopub.execute_input": "2021-08-21T23:25:07.222425Z",
     "iopub.status.busy": "2021-08-21T23:25:07.222065Z",
     "iopub.status.idle": "2021-08-21T23:25:07.24125Z",
     "shell.execute_reply": "2021-08-21T23:25:07.240148Z",
     "shell.execute_reply.started": "2021-08-21T23:25:07.222395Z"
    }
   },
   "outputs": [],
   "source": [
    "df_len"
   ]
  },
  {
   "cell_type": "code",
   "execution_count": null,
   "metadata": {
    "execution": {
     "iopub.execute_input": "2021-08-21T22:55:25.480348Z",
     "iopub.status.busy": "2021-08-21T22:55:25.479981Z",
     "iopub.status.idle": "2021-08-21T22:55:26.636635Z",
     "shell.execute_reply": "2021-08-21T22:55:26.635552Z",
     "shell.execute_reply.started": "2021-08-21T22:55:25.480316Z"
    }
   },
   "outputs": [],
   "source": [
    "dff = df_len.reset_index()\n",
    "dff['row_id'] = dff['stock_id'].astype(str) + '-' + dff['time_id'].astype(str)\n",
    "dff = dff[['row_id', 'len_book', 'len_trade']].set_index('row_id')\n",
    "dff = dff.join(train).reset_index()\n",
    "dff['diff_len_book_len_trade'] = dff['len_book'] - dff['len_trade']\n",
    "dff.head()"
   ]
  },
  {
   "cell_type": "code",
   "execution_count": null,
   "metadata": {
    "execution": {
     "iopub.execute_input": "2021-08-21T23:11:13.759663Z",
     "iopub.status.busy": "2021-08-21T23:11:13.759303Z",
     "iopub.status.idle": "2021-08-21T23:11:13.80198Z",
     "shell.execute_reply": "2021-08-21T23:11:13.801097Z",
     "shell.execute_reply.started": "2021-08-21T23:11:13.759626Z"
    }
   },
   "outputs": [],
   "source": [
    "dff[['len_book', 'len_trade','diff_len_book_len_trade']]\\\n",
    "    .corrwith(x['target']).to_frame().rename(columns={0: 'target'})\\\n",
    "    .style.background_gradient(cmap ='viridis')\\\n",
    "    .set_properties(**{'font-size': '20px'})"
   ]
  },
  {
   "cell_type": "code",
   "execution_count": null,
   "metadata": {
    "execution": {
     "iopub.execute_input": "2021-08-21T23:23:50.075667Z",
     "iopub.status.busy": "2021-08-21T23:23:50.075171Z",
     "iopub.status.idle": "2021-08-21T23:23:52.074064Z",
     "shell.execute_reply": "2021-08-21T23:23:52.072952Z",
     "shell.execute_reply.started": "2021-08-21T23:23:50.075624Z"
    }
   },
   "outputs": [],
   "source": []
  },
  {
   "cell_type": "code",
   "execution_count": null,
   "metadata": {
    "execution": {
     "iopub.execute_input": "2021-08-21T23:15:48.373559Z",
     "iopub.status.busy": "2021-08-21T23:15:48.373232Z",
     "iopub.status.idle": "2021-08-21T23:15:48.501123Z",
     "shell.execute_reply": "2021-08-21T23:15:48.500038Z",
     "shell.execute_reply.started": "2021-08-21T23:15:48.37353Z"
    }
   },
   "outputs": [],
   "source": [
    "plt.plot(title='ladkfj')"
   ]
  },
  {
   "cell_type": "code",
   "execution_count": null,
   "metadata": {
    "execution": {
     "iopub.execute_input": "2021-08-21T23:20:09.184527Z",
     "iopub.status.busy": "2021-08-21T23:20:09.184192Z",
     "iopub.status.idle": "2021-08-21T23:20:09.353323Z",
     "shell.execute_reply": "2021-08-21T23:20:09.352057Z",
     "shell.execute_reply.started": "2021-08-21T23:20:09.184495Z"
    }
   },
   "outputs": [],
   "source": [
    "\n"
   ]
  },
  {
   "cell_type": "code",
   "execution_count": null,
   "metadata": {},
   "outputs": [],
   "source": []
  },
  {
   "cell_type": "code",
   "execution_count": null,
   "metadata": {
    "execution": {
     "iopub.execute_input": "2021-08-21T22:44:35.944619Z",
     "iopub.status.busy": "2021-08-21T22:44:35.943901Z",
     "iopub.status.idle": "2021-08-21T22:44:36.209352Z",
     "shell.execute_reply": "2021-08-21T22:44:36.208475Z",
     "shell.execute_reply.started": "2021-08-21T22:44:35.944568Z"
    }
   },
   "outputs": [],
   "source": [
    "df_len.len_book.hist()"
   ]
  },
  {
   "cell_type": "code",
   "execution_count": null,
   "metadata": {
    "execution": {
     "iopub.execute_input": "2021-08-21T22:44:54.564726Z",
     "iopub.status.busy": "2021-08-21T22:44:54.564241Z",
     "iopub.status.idle": "2021-08-21T22:44:54.571076Z",
     "shell.execute_reply": "2021-08-21T22:44:54.570342Z",
     "shell.execute_reply.started": "2021-08-21T22:44:54.564671Z"
    }
   },
   "outputs": [],
   "source": [
    "df_len.len_book.min()"
   ]
  },
  {
   "cell_type": "code",
   "execution_count": null,
   "metadata": {
    "execution": {
     "iopub.execute_input": "2021-08-21T22:45:03.321058Z",
     "iopub.status.busy": "2021-08-21T22:45:03.320688Z",
     "iopub.status.idle": "2021-08-21T22:45:03.326674Z",
     "shell.execute_reply": "2021-08-21T22:45:03.32606Z",
     "shell.execute_reply.started": "2021-08-21T22:45:03.321027Z"
    }
   },
   "outputs": [],
   "source": [
    "df_len.len_book.max()"
   ]
  },
  {
   "cell_type": "code",
   "execution_count": null,
   "metadata": {
    "execution": {
     "iopub.execute_input": "2021-08-21T22:06:36.782402Z",
     "iopub.status.busy": "2021-08-21T22:06:36.782044Z",
     "iopub.status.idle": "2021-08-21T22:06:36.787297Z",
     "shell.execute_reply": "2021-08-21T22:06:36.786402Z",
     "shell.execute_reply.started": "2021-08-21T22:06:36.782371Z"
    }
   },
   "outputs": [],
   "source": [
    "f = lambda x: np.isnan(x).sum()"
   ]
  },
  {
   "cell_type": "code",
   "execution_count": null,
   "metadata": {
    "execution": {
     "iopub.execute_input": "2021-08-21T22:06:37.178849Z",
     "iopub.status.busy": "2021-08-21T22:06:37.178114Z",
     "iopub.status.idle": "2021-08-21T22:06:37.929589Z",
     "shell.execute_reply": "2021-08-21T22:06:37.928563Z",
     "shell.execute_reply.started": "2021-08-21T22:06:37.178811Z"
    }
   },
   "outputs": [],
   "source": [
    "df.groupby('time_id')['bid_size1'].agg(f)"
   ]
  },
  {
   "cell_type": "code",
   "execution_count": null,
   "metadata": {
    "execution": {
     "iopub.execute_input": "2021-08-21T21:52:01.353465Z",
     "iopub.status.busy": "2021-08-21T21:52:01.353115Z",
     "iopub.status.idle": "2021-08-21T21:52:03.115674Z",
     "shell.execute_reply": "2021-08-21T21:52:03.114885Z",
     "shell.execute_reply.started": "2021-08-21T21:52:01.353435Z"
    }
   },
   "outputs": [],
   "source": [
    "dff = df.groupby('time_id').agg(len)"
   ]
  },
  {
   "cell_type": "code",
   "execution_count": null,
   "metadata": {
    "execution": {
     "iopub.execute_input": "2021-08-21T21:52:22.394953Z",
     "iopub.status.busy": "2021-08-21T21:52:22.394541Z",
     "iopub.status.idle": "2021-08-21T21:52:22.619709Z",
     "shell.execute_reply": "2021-08-21T21:52:22.618748Z",
     "shell.execute_reply.started": "2021-08-21T21:52:22.394915Z"
    }
   },
   "outputs": [],
   "source": [
    "dff.bid_size1.hist()"
   ]
  },
  {
   "cell_type": "code",
   "execution_count": null,
   "metadata": {},
   "outputs": [],
   "source": []
  },
  {
   "cell_type": "code",
   "execution_count": null,
   "metadata": {
    "_cell_guid": "1b5e1ca3-4400-497d-9d9c-4808dbf0a382",
    "_uuid": "ce3c6d03-068f-492a-bfd7-4aadabe5d976",
    "collapsed": false,
    "execution": {
     "iopub.execute_input": "2021-08-21T21:46:46.695881Z",
     "iopub.status.busy": "2021-08-21T21:46:46.69519Z",
     "iopub.status.idle": "2021-08-21T21:46:49.571408Z",
     "shell.execute_reply": "2021-08-21T21:46:49.570581Z",
     "shell.execute_reply.started": "2021-08-21T21:46:46.695786Z"
    },
    "jupyter": {
     "outputs_hidden": false
    }
   },
   "outputs": [],
   "source": [
    "agg_dict = {\n",
    "    'log_return': [realized_volatility, 'count', np.std, get_mean_decay(.99, -1), get_mean_decay(.99, 1)],\n",
    "    'is_pos_return': [np.sum, get_mean_decay(.99, -1), get_mean_decay(.99, 1)], \n",
    "    'is_neg_return': [np.sum, get_mean_decay(.99, -1), get_mean_decay(.99, 1)],\n",
    "    'abs_log_return': [np.sum, get_mean_decay(.99, -1), get_mean_decay(.99, 1)],\n",
    "    'sum_bid': [np.sum, get_mean_decay(.99, -1), get_mean_decay(.99, 1)],\n",
    "    'sum_ask': [np.sum, get_mean_decay(.99, -1), get_mean_decay(.99, 1)],\n",
    "    'wap': [np.mean, get_mean_decay(.99, -1), get_mean_decay(.99, 1)],\n",
    "    'spread': [np.mean, np.sum, np.std, get_mean_decay(.99, -1), get_mean_decay(.99, 1), get_mean_decay(.95, -1), get_mean_decay(.95, 1)],\n",
    "    'bid_ask_ratio': [np.mean, get_mean_decay(.99, -1), get_mean_decay(.99, 1)],\n",
    "    'sum_bid_ask': [np.mean, get_mean_decay(.99, -1), get_mean_decay(.99, 1)],\n",
    "    'size': [np.mean, np.sum, np.std, get_mean_decay(.99, -1), get_mean_decay(.99, 1), get_mean_decay(.95, -1), get_mean_decay(.95, 1)],\n",
    "    'spread_pct': [np.mean, get_mean_decay(.99, -1), get_mean_decay(.99, 1)],\n",
    "\n",
    "\n",
    "}\n",
    "df_agg = df.groupby(['time_id']).agg(agg_dict).rename(\n",
    "    columns={'<lambda_0>': 'mean_decay', \n",
    "             '<lambda_1>': 'mean_decay_flip', \n",
    "             '<lambda_2>': 'mean_decay_95', \n",
    "             '<lambda_3>': 'mean_decay_flip_95',\n",
    "            }\n",
    ")\n",
    "df_agg.columns = ['_'.join(c) for c in df_agg.columns]"
   ]
  },
  {
   "cell_type": "code",
   "execution_count": null,
   "metadata": {
    "_cell_guid": "1b5e1ca3-4400-497d-9d9c-4808dbf0a382",
    "_uuid": "ce3c6d03-068f-492a-bfd7-4aadabe5d976",
    "collapsed": false,
    "execution": {
     "iopub.execute_input": "2021-08-21T21:46:46.695881Z",
     "iopub.status.busy": "2021-08-21T21:46:46.69519Z",
     "iopub.status.idle": "2021-08-21T21:46:49.571408Z",
     "shell.execute_reply": "2021-08-21T21:46:49.570581Z",
     "shell.execute_reply.started": "2021-08-21T21:46:46.695786Z"
    },
    "jupyter": {
     "outputs_hidden": false
    }
   },
   "outputs": [],
   "source": [
    "############ Realized volume for each minute ############\n",
    "for m in range(1, 11): \n",
    "    mask = (df.seconds_in_bucket >= 60 * m - 60) & (df.seconds_in_bucket < 60 * m)\n",
    "    df_agg[f'real_vol_min_{m}'] = df[mask].groupby('time_id')['log_return'].agg(realized_volatility)\n",
    "\n",
    "######### Decay sum of realized volume per minute ########\n",
    "cols = [f'real_vol_min_{minute}' for minute in range(1, 11)]\n",
    "x = df_agg[cols].values\n",
    "for decay, step in product((.99, .95, .9, .85, .75, .65, .55, .45), (1, -1)): \n",
    "    df_agg[f'real_vol_mean_decay_{decay}_{step}'] =  mean_decay(x, decay, step, axis=1)\n",
    "#     df_agg['end_beg_decay_ratio'] = df_agg['real_vol_mean_decay_0.85_-1'] / df_agg['real_vol_mean_decay_0.85_1'] # replaced by next code\n",
    "\n",
    "for c1, c2 in zip(df_agg.columns, df_agg.columns[1:]): \n",
    "    if 'mean_decay_flip' in c2: \n",
    "        pre, suf = c2.split('mean_decay_flip')\n",
    "        df_agg[pre + 'momentum' + suf] = df_agg[c1] / df_agg[c2]\n",
    "    if 'vol_mean_decay' in c2 and '-1' in c2: \n",
    "        pre, suf = c2.split('vol_mean_decay')\n",
    "        df_agg[pre + 'momentum' + suf] = df_agg[c2] / df_agg[c1]\n",
    "\n",
    "df_agg = df_agg.astype('float32')\n",
    "df_agg['no_book'] = (df_agg['log_return_count'] == 0).astype(int)\n",
    "df_agg['no_book'] = df_agg['no_book'].astype('category')\n",
    "################# Adding 'row_id' column ##################\n",
    "df_agg.reset_index(inplace=True)\n",
    "df_agg['time_id'] = df_agg.time_id.apply(lambda x: f\"{stock_id}-{x}\")\n",
    "df_agg.rename({'time_id': 'row_id'}, axis=1, inplace=True)\n",
    "return df_agg.set_index('row_id')"
   ]
  },
  {
   "cell_type": "markdown",
   "metadata": {},
   "source": [
    "## Looking at the feature and target correlation"
   ]
  },
  {
   "cell_type": "code",
   "execution_count": null,
   "metadata": {
    "execution": {
     "iopub.execute_input": "2021-08-22T04:05:35.007649Z",
     "iopub.status.busy": "2021-08-22T04:05:35.007175Z",
     "iopub.status.idle": "2021-08-22T04:05:40.889302Z",
     "shell.execute_reply": "2021-08-22T04:05:40.88825Z",
     "shell.execute_reply.started": "2021-08-22T04:05:35.007615Z"
    }
   },
   "outputs": [],
   "source": [
    "train = pd.read_pickle('../input/generate-train-features-script/p5_train.pkl')"
   ]
  },
  {
   "cell_type": "code",
   "execution_count": null,
   "metadata": {
    "execution": {
     "iopub.execute_input": "2021-08-22T04:19:54.955419Z",
     "iopub.status.busy": "2021-08-22T04:19:54.954925Z",
     "iopub.status.idle": "2021-08-22T04:19:59.072695Z",
     "shell.execute_reply": "2021-08-22T04:19:59.070208Z",
     "shell.execute_reply.started": "2021-08-22T04:19:54.955378Z"
    }
   },
   "outputs": [],
   "source": [
    "top_50_corr_cols = train.corrwith(train.target).abs()\\\n",
    "    .sort_values(ascending=False)[:50].index\n",
    "train[top_50_corr_cols].corr()"
   ]
  },
  {
   "cell_type": "code",
   "execution_count": null,
   "metadata": {
    "execution": {
     "iopub.execute_input": "2021-08-22T04:21:07.25072Z",
     "iopub.status.busy": "2021-08-22T04:21:07.250279Z",
     "iopub.status.idle": "2021-08-22T04:21:11.145905Z",
     "shell.execute_reply": "2021-08-22T04:21:11.144754Z",
     "shell.execute_reply.started": "2021-08-22T04:21:07.25068Z"
    }
   },
   "outputs": [],
   "source": [
    "sns.heatmap(train[top_50_corr_cols].corr())"
   ]
  },
  {
   "cell_type": "code",
   "execution_count": null,
   "metadata": {
    "execution": {
     "iopub.execute_input": "2021-08-22T04:10:07.122403Z",
     "iopub.status.busy": "2021-08-22T04:10:07.12192Z",
     "iopub.status.idle": "2021-08-22T04:10:07.150563Z",
     "shell.execute_reply": "2021-08-22T04:10:07.149759Z",
     "shell.execute_reply.started": "2021-08-22T04:10:07.122368Z"
    }
   },
   "outputs": [],
   "source": [
    "train[['log_return_realized_volatility']].corrwith(train.target)"
   ]
  },
  {
   "cell_type": "code",
   "execution_count": null,
   "metadata": {
    "execution": {
     "iopub.execute_input": "2021-08-22T04:12:07.041918Z",
     "iopub.status.busy": "2021-08-22T04:12:07.041456Z",
     "iopub.status.idle": "2021-08-22T04:12:07.060765Z",
     "shell.execute_reply": "2021-08-22T04:12:07.059752Z",
     "shell.execute_reply.started": "2021-08-22T04:12:07.04188Z"
    }
   },
   "outputs": [],
   "source": [
    "train['time_id_mean_real_vol'] = train.groupby('time_id')['log_return_realized_volatility'].transform('mean')"
   ]
  },
  {
   "cell_type": "code",
   "execution_count": null,
   "metadata": {
    "execution": {
     "iopub.execute_input": "2021-08-22T04:12:38.790411Z",
     "iopub.status.busy": "2021-08-22T04:12:38.790009Z",
     "iopub.status.idle": "2021-08-22T04:12:38.809818Z",
     "shell.execute_reply": "2021-08-22T04:12:38.808862Z",
     "shell.execute_reply.started": "2021-08-22T04:12:38.790371Z"
    }
   },
   "outputs": [],
   "source": [
    "train[['time_id_mean_real_vol']].corrwith(train.target)"
   ]
  },
  {
   "cell_type": "code",
   "execution_count": null,
   "metadata": {
    "execution": {
     "iopub.execute_input": "2021-08-22T04:15:17.884039Z",
     "iopub.status.busy": "2021-08-22T04:15:17.88345Z",
     "iopub.status.idle": "2021-08-22T04:15:17.935032Z",
     "shell.execute_reply": "2021-08-22T04:15:17.934048Z",
     "shell.execute_reply.started": "2021-08-22T04:15:17.884Z"
    }
   },
   "outputs": [],
   "source": [
    "cols = [c for c in train.columns if 'wap' in c]\n",
    "train[cols].corrwith(train.target)"
   ]
  },
  {
   "cell_type": "code",
   "execution_count": null,
   "metadata": {},
   "outputs": [],
   "source": []
  },
  {
   "cell_type": "code",
   "execution_count": null,
   "metadata": {
    "execution": {
     "iopub.execute_input": "2021-08-22T04:43:08.198845Z",
     "iopub.status.busy": "2021-08-22T04:43:08.198333Z",
     "iopub.status.idle": "2021-08-22T04:43:08.206699Z",
     "shell.execute_reply": "2021-08-22T04:43:08.20551Z",
     "shell.execute_reply.started": "2021-08-22T04:43:08.19881Z"
    }
   },
   "outputs": [],
   "source": [
    "load_bt(stock_id)"
   ]
  },
  {
   "cell_type": "code",
   "execution_count": null,
   "metadata": {},
   "outputs": [],
   "source": []
  }
 ],
 "metadata": {
  "kernelspec": {
   "display_name": "Python 3",
   "language": "python",
   "name": "python3"
  },
  "language_info": {
   "codemirror_mode": {
    "name": "ipython",
    "version": 3
   },
   "file_extension": ".py",
   "mimetype": "text/x-python",
   "name": "python",
   "nbconvert_exporter": "python",
   "pygments_lexer": "ipython3",
   "version": "3.6.4"
  }
 },
 "nbformat": 4,
 "nbformat_minor": 4
}
