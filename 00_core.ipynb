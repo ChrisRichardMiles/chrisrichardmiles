{
 "cells": [
  {
   "cell_type": "code",
   "execution_count": null,
   "metadata": {},
   "outputs": [],
   "source": [
    "# default_exp core"
   ]
  },
  {
   "cell_type": "markdown",
   "metadata": {},
   "source": [
    "# Core\n",
    "\n",
    "> Basic functions that could apply to many projects."
   ]
  },
  {
   "cell_type": "code",
   "execution_count": null,
   "metadata": {},
   "outputs": [],
   "source": [
    "#hide\n",
    "from nbdev.showdoc import *"
   ]
  },
  {
   "cell_type": "markdown",
   "metadata": {},
   "source": [
    "## Converting dictionaries to strings and visa versa.\n",
    "> This is for saving experiment parameters easily."
   ]
  },
  {
   "cell_type": "code",
   "execution_count": null,
   "metadata": {},
   "outputs": [],
   "source": [
    "#export\n",
    "def dict_to_str(d: dict, sep: str = '::') -> str:\n",
    "    return sep.join(\n",
    "        [str(k) + sep + str(v) for k, v in sorted(d.items())])"
   ]
  },
  {
   "cell_type": "code",
   "execution_count": null,
   "metadata": {},
   "outputs": [
    {
     "data": {
      "text/plain": [
       "'bar::zoo::bool::True::bool2::False::float::3.45::foo::3::name::f1'"
      ]
     },
     "execution_count": null,
     "metadata": {},
     "output_type": "execute_result"
    }
   ],
   "source": [
    "dict_to_str(d={\n",
    "    'name': 'f1',\n",
    "    'foo': 3,\n",
    "    'bar': 'zoo',\n",
    "    'bool': True,\n",
    "    'bool2': False,\n",
    "    'float': 3.45})"
   ]
  },
  {
   "cell_type": "code",
   "execution_count": null,
   "metadata": {},
   "outputs": [],
   "source": [
    "x = dict_to_str(d={\n",
    "    'name': 'f1',\n",
    "    'foo': 3,\n",
    "    'bar': 'zoo',\n",
    "    'bool': True,\n",
    "    'bool2': False,\n",
    "    'float': 3.45})\n",
    "\n",
    "assert x == 'bar::zoo::'\\\n",
    "          + 'bool::True::'\\\n",
    "          + 'bool2::False::'\\\n",
    "          + 'float::3.45::'\\\n",
    "          + 'foo::3::'\\\n",
    "          + 'name::f1'"
   ]
  }
 ],
 "metadata": {
  "kernelspec": {
   "display_name": "Python 3",
   "language": "python",
   "name": "python3"
  }
 },
 "nbformat": 4,
 "nbformat_minor": 2
}
